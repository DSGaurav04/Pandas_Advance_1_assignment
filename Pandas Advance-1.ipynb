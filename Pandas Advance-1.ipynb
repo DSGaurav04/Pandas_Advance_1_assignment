{
 "cells": [
  {
   "cell_type": "markdown",
   "id": "fda3755a",
   "metadata": {},
   "source": [
    "# Q1. List any five functions of the pandas library with execution."
   ]
  },
  {
   "cell_type": "markdown",
   "id": "643906eb",
   "metadata": {},
   "source": [
    "1) read_csv(): Used to read data from a CSV file and create a DataFrame."
   ]
  },
  {
   "cell_type": "code",
   "execution_count": 2,
   "id": "fafad2a4",
   "metadata": {},
   "outputs": [],
   "source": [
    "#import pandas as pd\n",
    "#df = pd.read_csv('example.csv')"
   ]
  },
  {
   "cell_type": "markdown",
   "id": "fb94ebaa",
   "metadata": {},
   "source": [
    "2) head(): Displays the first n rows of a DataFrame."
   ]
  },
  {
   "cell_type": "code",
   "execution_count": 3,
   "id": "f9375729",
   "metadata": {},
   "outputs": [],
   "source": [
    "#df.head()"
   ]
  },
  {
   "cell_type": "markdown",
   "id": "7696aaff",
   "metadata": {},
   "source": [
    "3) groupby(): Groups the data in a DataFrame based on a specified column and allows for aggregation operations."
   ]
  },
  {
   "cell_type": "code",
   "execution_count": 4,
   "id": "f69240d6",
   "metadata": {},
   "outputs": [],
   "source": [
    "#grouped_data = df.groupby('Category')['Price'].mean()"
   ]
  },
  {
   "cell_type": "markdown",
   "id": "ea973a52",
   "metadata": {},
   "source": [
    "4) pivot_table(): Creates a pivot table for data summarization and aggregation."
   ]
  },
  {
   "cell_type": "code",
   "execution_count": 5,
   "id": "a5a0d84d",
   "metadata": {},
   "outputs": [],
   "source": [
    "#pivot_table = df.pivot_table(index='Category', values='Sales', aggfunc='sum')\n"
   ]
  },
  {
   "cell_type": "markdown",
   "id": "86081805",
   "metadata": {},
   "source": [
    "5) merge(): Combines two or more DataFrames based on a common column or index."
   ]
  },
  {
   "cell_type": "code",
   "execution_count": 6,
   "id": "b21e389b",
   "metadata": {},
   "outputs": [],
   "source": [
    "#merged_df = pd.merge(df1, df2, on='common_column')\n"
   ]
  },
  {
   "cell_type": "markdown",
   "id": "10ea18dc",
   "metadata": {},
   "source": [
    "# Q2. Given a Pandas DataFrame df with columns 'A', 'B', and 'C', write a Python function to re-index the DataFrame with a new index that starts from 1 and increments by 2 for each row."
   ]
  },
  {
   "cell_type": "code",
   "execution_count": 10,
   "id": "ce093661",
   "metadata": {},
   "outputs": [
    {
     "name": "stdout",
     "output_type": "stream",
     "text": [
      "    A   B    C\n",
      "0  10  50   90\n",
      "1  20  60  100\n",
      "2  30  70  110\n",
      "3  40  80  120\n",
      "\n",
      "\n",
      "    A   B    C\n",
      "1  10  50   90\n",
      "3  20  60  100\n",
      "5  30  70  110\n",
      "7  40  80  120\n"
     ]
    }
   ],
   "source": [
    "import pandas as pd \n",
    "\n",
    "def reindex_dataframe(df):\n",
    "    \n",
    "    df = df.reset_index(drop=True)\n",
    "    df.index = df.index * 2 + 1\n",
    "    return df\n",
    "\n",
    "data = {'A' : [10,20,30,40], 'B' : [50,60,70,80,], 'C' : [90,100,110,120]}\n",
    "df = pd.DataFrame(data)\n",
    "\n",
    "my_reindex = reindex_dataframe(df)\n",
    "\n",
    "print(df)\n",
    "\n",
    "print(\"\\n\")\n",
    "\n",
    "print(my_reindex)\n"
   ]
  },
  {
   "cell_type": "markdown",
   "id": "c48b6288",
   "metadata": {},
   "source": [
    "# Q3. You have a Pandas DataFrame df with a column named 'Values'. Write a Python function that iterates over the DataFrame and calculates the sum of the first three values in the 'Values' column. The function should print the sum to For example, if the 'Values' column of df contains the values [10, 20, 30, 40, 50], your function should calculate and print the sum of the first three values, which is 60. the console."
   ]
  },
  {
   "cell_type": "code",
   "execution_count": 15,
   "id": "2b574c9e",
   "metadata": {},
   "outputs": [
    {
     "name": "stdout",
     "output_type": "stream",
     "text": [
      "sum of first three values : 60\n"
     ]
    }
   ],
   "source": [
    "import pandas as pd\n",
    "\n",
    "data_value = {'Values' : [10, 20, 30, 40, 50]}\n",
    "\n",
    "df1 = pd.DataFrame(data_value)\n",
    "column = df1['Values']\n",
    "\n",
    "sum_first_three = column.head(3).sum()\n",
    "\n",
    "print(\"sum of first three values :\", sum_first_three)"
   ]
  },
  {
   "cell_type": "markdown",
   "id": "09994129",
   "metadata": {},
   "source": [
    "# Q4. Given a Pandas DataFrame df with a column 'Text', write a Python function to create a new column 'Word_Count' that contains the number of words in each row of the 'Text' column."
   ]
  },
  {
   "cell_type": "code",
   "execution_count": 16,
   "id": "6a1e550d",
   "metadata": {},
   "outputs": [
    {
     "name": "stdout",
     "output_type": "stream",
     "text": [
      "                                 Text  Word_Count\n",
      "0                      This is Gaurav           3\n",
      "1  I am learning pandas from PW Skill           7\n",
      "2                This is all about me           5\n",
      "3                       Thank you sir           3\n"
     ]
    }
   ],
   "source": [
    "import pandas as pd\n",
    "\n",
    "text_data = {'Text' : [\"This is Gaurav\",\"I am learning pandas from PW Skill\",\"This is all about me\",\"Thank you sir\"]}\n",
    "\n",
    "df2 = pd.DataFrame(text_data)\n",
    "\n",
    "df2['Word_Count'] = df2['Text'].apply(lambda x: len(str(x).split()))\n",
    "\n",
    "print(df2)\n",
    "\n",
    "    "
   ]
  },
  {
   "cell_type": "markdown",
   "id": "1d0e8007",
   "metadata": {},
   "source": [
    "# Q5. How are DataFrame.size() and DataFrame.shape() different?"
   ]
  },
  {
   "cell_type": "markdown",
   "id": "5a46e679",
   "metadata": {},
   "source": [
    "1) DataFrame.size:\n",
    "\n",
    "DataFrame.size returns the total number of elements in the DataFrame.\n",
    "\n",
    "-It calculates the size by multiplying the number of rows by the number of columns.\n",
    "\n",
    "-The result is a single integer representing the total number of cells or elements in the DataFrame."
   ]
  },
  {
   "cell_type": "code",
   "execution_count": 22,
   "id": "8b7e7785",
   "metadata": {},
   "outputs": [
    {
     "data": {
      "text/plain": [
       "9"
      ]
     },
     "execution_count": 22,
     "metadata": {},
     "output_type": "execute_result"
    }
   ],
   "source": [
    "import pandas as pd \n",
    "\n",
    "data1 = {'A' : [1,2,3], 'B' : [4,5,6], 'C' : [7,8,9]}\n",
    "\n",
    "df3 = pd.DataFrame(data1)\n",
    "\n",
    "DataFrame_size = df3.size\n",
    "\n",
    "DataFrame_size"
   ]
  },
  {
   "cell_type": "markdown",
   "id": "bbaeee4b",
   "metadata": {},
   "source": [
    "2) DataFrame.shape:\n",
    "\n",
    "DataFrame.shape returns a tuple representing the dimensions of the DataFrame.\n",
    "\n",
    "-The tuple contains two values: the number of rows and the number of columns.\n",
    "\n",
    "-It provides a convenient way to get both dimensions at once."
   ]
  },
  {
   "cell_type": "code",
   "execution_count": 26,
   "id": "18205b29",
   "metadata": {},
   "outputs": [
    {
     "data": {
      "text/plain": [
       "(3, 3)"
      ]
     },
     "execution_count": 26,
     "metadata": {},
     "output_type": "execute_result"
    }
   ],
   "source": [
    "data1 = {'A' : [1,2,3], 'B' : [4,5,6], 'C' : [7,8,9]}\n",
    "\n",
    "df3 = pd.DataFrame(data1)\n",
    "\n",
    "DataFrame_shape = df3.shape\n",
    "\n",
    "DataFrame_shape"
   ]
  },
  {
   "cell_type": "markdown",
   "id": "9d9e0484",
   "metadata": {},
   "source": [
    "# Q6. Which function of pandas do we use to read an excel file?"
   ]
  },
  {
   "cell_type": "markdown",
   "id": "6f65fdf7",
   "metadata": {},
   "source": [
    "To read an Excel file in Pandas, we can use the pd.read_excel() function. This function is specifically designed to read data from Excel files. \n",
    "\n",
    "Here's an example of how to use it."
   ]
  },
  {
   "cell_type": "code",
   "execution_count": 28,
   "id": "bc29ca23",
   "metadata": {},
   "outputs": [],
   "source": [
    "#import pandas as pd\n",
    "\n",
    "#df = pd.read_excel('Our_file.xlsx')"
   ]
  },
  {
   "cell_type": "markdown",
   "id": "bac6d752",
   "metadata": {},
   "source": [
    "# Q7. You have a Pandas DataFrame df that contains a column named 'Email' that contains email addresses in the format 'username@domain.com'. Write a Python function that creates a new column 'Username' in df that contains only the username part of each email address."
   ]
  },
  {
   "cell_type": "markdown",
   "id": "5370ab22",
   "metadata": {},
   "source": [
    "The username is the part of the email address that appears before the '@' symbol. For example, if the\n",
    "email address is 'john.doe@example.com', the 'Username' column should contain 'john.doe'. Your\n",
    "function should extract the username from each email address and store it in the new 'Username'\n",
    "column."
   ]
  },
  {
   "cell_type": "code",
   "execution_count": 66,
   "id": "bacb9873",
   "metadata": {},
   "outputs": [
    {
     "data": {
      "text/html": [
       "<div>\n",
       "<style scoped>\n",
       "    .dataframe tbody tr th:only-of-type {\n",
       "        vertical-align: middle;\n",
       "    }\n",
       "\n",
       "    .dataframe tbody tr th {\n",
       "        vertical-align: top;\n",
       "    }\n",
       "\n",
       "    .dataframe thead th {\n",
       "        text-align: right;\n",
       "    }\n",
       "</style>\n",
       "<table border=\"1\" class=\"dataframe\">\n",
       "  <thead>\n",
       "    <tr style=\"text-align: right;\">\n",
       "      <th></th>\n",
       "      <th>Email</th>\n",
       "      <th>Username</th>\n",
       "    </tr>\n",
       "  </thead>\n",
       "  <tbody>\n",
       "    <tr>\n",
       "      <th>0</th>\n",
       "      <td>gaurav@gmail.com</td>\n",
       "      <td>gaurav</td>\n",
       "    </tr>\n",
       "    <tr>\n",
       "      <th>1</th>\n",
       "      <td>pw@gmail.com</td>\n",
       "      <td>pw</td>\n",
       "    </tr>\n",
       "    <tr>\n",
       "      <th>2</th>\n",
       "      <td>sudhanshusir@gmail.com</td>\n",
       "      <td>sudhanshusir</td>\n",
       "    </tr>\n",
       "    <tr>\n",
       "      <th>3</th>\n",
       "      <td>alakhsir@gmail.com</td>\n",
       "      <td>alakhsir</td>\n",
       "    </tr>\n",
       "    <tr>\n",
       "      <th>4</th>\n",
       "      <td>krishsir@gmail.com</td>\n",
       "      <td>krishsir</td>\n",
       "    </tr>\n",
       "  </tbody>\n",
       "</table>\n",
       "</div>"
      ],
      "text/plain": [
       "                    Email      Username\n",
       "0        gaurav@gmail.com        gaurav\n",
       "1            pw@gmail.com            pw\n",
       "2  sudhanshusir@gmail.com  sudhanshusir\n",
       "3      alakhsir@gmail.com      alakhsir\n",
       "4      krishsir@gmail.com      krishsir"
      ]
     },
     "execution_count": 66,
     "metadata": {},
     "output_type": "execute_result"
    }
   ],
   "source": [
    "import pandas as pd\n",
    "\n",
    "email_data = {'Email' : ['gaurav@gmail.com', 'pw@gmail.com', 'sudhanshusir@gmail.com','alakhsir@gmail.com', 'krishsir@gmail.com']}\n",
    "\n",
    "df4 = pd.DataFrame(email_data)\n",
    "\n",
    "df4['Username'] = df4['Email'].str.split('@').str[0]\n",
    "\n",
    "#print(df4)\n",
    "df4"
   ]
  },
  {
   "cell_type": "markdown",
   "id": "cbeca01f",
   "metadata": {},
   "source": [
    "# Q8. You have a Pandas DataFrame df with columns 'A', 'B', and 'C'. Write a Python function that selects all rows where the value in column 'A' is greater than 5 and the value in column 'B' is less than 10. The function should return a new DataFrame that contains only the selected rows."
   ]
  },
  {
   "cell_type": "raw",
   "id": "7b914725",
   "metadata": {},
   "source": [
    "For example, if df contains the following values:\n",
    "A B C\n",
    "0 3 5 1\n",
    "1 8 2 7\n",
    "2 6 9 4\n",
    "3 2 3 5\n",
    "4 9 1 2\n",
    "Your function should select the following rows: A B C\n",
    "1 8 2 7\n",
    "4 9 1 2\n",
    "The function should return a new DataFrame that contains only the selected rows."
   ]
  },
  {
   "cell_type": "code",
   "execution_count": 42,
   "id": "d619587b",
   "metadata": {},
   "outputs": [
    {
     "name": "stdout",
     "output_type": "stream",
     "text": [
      "   A  B  C\n",
      "1  8  2  7\n",
      "2  6  9  4\n",
      "4  9  1  2\n"
     ]
    }
   ],
   "source": [
    "selected_rows = df[(df['A'] > 5) & (df['B'] < 10)]\n",
    "   \n",
    "data = {'A': [3, 8, 6, 2, 9], 'B': [5, 2, 9, 3, 1], 'C': [1, 7, 4, 5, 2]}\n",
    "df = pd.DataFrame(data)\n",
    "\n",
    "selected_df = select_rows(df)\n",
    "\n",
    "print(selected_df)\n"
   ]
  },
  {
   "cell_type": "markdown",
   "id": "2219bb17",
   "metadata": {},
   "source": [
    "# Q9. Given a Pandas DataFrame df with a column 'Values', write a Python function to calculate the mean, median, and standard deviation of the values in the 'Values' column."
   ]
  },
  {
   "cell_type": "code",
   "execution_count": 65,
   "id": "f93d6d32",
   "metadata": {},
   "outputs": [
    {
     "name": "stdout",
     "output_type": "stream",
     "text": [
      "Mean:  35.0\n",
      "Median:  35.0\n",
      "Standard Deviation:  18.708286933869708\n"
     ]
    },
    {
     "data": {
      "text/html": [
       "<div>\n",
       "<style scoped>\n",
       "    .dataframe tbody tr th:only-of-type {\n",
       "        vertical-align: middle;\n",
       "    }\n",
       "\n",
       "    .dataframe tbody tr th {\n",
       "        vertical-align: top;\n",
       "    }\n",
       "\n",
       "    .dataframe thead th {\n",
       "        text-align: right;\n",
       "    }\n",
       "</style>\n",
       "<table border=\"1\" class=\"dataframe\">\n",
       "  <thead>\n",
       "    <tr style=\"text-align: right;\">\n",
       "      <th></th>\n",
       "      <th>Values</th>\n",
       "    </tr>\n",
       "  </thead>\n",
       "  <tbody>\n",
       "    <tr>\n",
       "      <th>0</th>\n",
       "      <td>10</td>\n",
       "    </tr>\n",
       "    <tr>\n",
       "      <th>1</th>\n",
       "      <td>20</td>\n",
       "    </tr>\n",
       "    <tr>\n",
       "      <th>2</th>\n",
       "      <td>30</td>\n",
       "    </tr>\n",
       "    <tr>\n",
       "      <th>3</th>\n",
       "      <td>40</td>\n",
       "    </tr>\n",
       "    <tr>\n",
       "      <th>4</th>\n",
       "      <td>50</td>\n",
       "    </tr>\n",
       "    <tr>\n",
       "      <th>5</th>\n",
       "      <td>60</td>\n",
       "    </tr>\n",
       "  </tbody>\n",
       "</table>\n",
       "</div>"
      ],
      "text/plain": [
       "   Values\n",
       "0      10\n",
       "1      20\n",
       "2      30\n",
       "3      40\n",
       "4      50\n",
       "5      60"
      ]
     },
     "execution_count": 65,
     "metadata": {},
     "output_type": "execute_result"
    }
   ],
   "source": [
    "import pandas as pd \n",
    "\n",
    "data_value = {'Values' : [10,20,30,40,50,60]}\n",
    "\n",
    "df6 = pd.DataFrame(data_value)\n",
    "\n",
    "#df6.describe()\n",
    "\n",
    "mean_value = df6['Values'].mean()\n",
    "median_value = df6['Values'].median()\n",
    "std_deviation = df6['Values'].std()\n",
    "\n",
    "print(\"Mean: \" ,mean_value)\n",
    "print(\"Median: \",median_value)\n",
    "print(\"Standard Deviation: \",std_deviation)\n",
    "\n",
    "df6\n"
   ]
  },
  {
   "cell_type": "markdown",
   "id": "553117ff",
   "metadata": {},
   "source": [
    "# Q10. Given a Pandas DataFrame df with a column 'Sales' and a column 'Date', write a Python function to create a new column 'MovingAverage' that contains the moving average of the sales for the past 7 days for each row in the DataFrame. The moving average should be calculated using a window of size 7 and should include the current day."
   ]
  },
  {
   "cell_type": "code",
   "execution_count": 64,
   "id": "cda8f159",
   "metadata": {},
   "outputs": [
    {
     "data": {
      "text/html": [
       "<div>\n",
       "<style scoped>\n",
       "    .dataframe tbody tr th:only-of-type {\n",
       "        vertical-align: middle;\n",
       "    }\n",
       "\n",
       "    .dataframe tbody tr th {\n",
       "        vertical-align: top;\n",
       "    }\n",
       "\n",
       "    .dataframe thead th {\n",
       "        text-align: right;\n",
       "    }\n",
       "</style>\n",
       "<table border=\"1\" class=\"dataframe\">\n",
       "  <thead>\n",
       "    <tr style=\"text-align: right;\">\n",
       "      <th></th>\n",
       "      <th>Date</th>\n",
       "      <th>Sales</th>\n",
       "      <th>MovingAverage</th>\n",
       "    </tr>\n",
       "  </thead>\n",
       "  <tbody>\n",
       "    <tr>\n",
       "      <th>0</th>\n",
       "      <td>2023-09-01</td>\n",
       "      <td>10</td>\n",
       "      <td>10.0</td>\n",
       "    </tr>\n",
       "    <tr>\n",
       "      <th>1</th>\n",
       "      <td>2023-09-02</td>\n",
       "      <td>15</td>\n",
       "      <td>12.5</td>\n",
       "    </tr>\n",
       "    <tr>\n",
       "      <th>2</th>\n",
       "      <td>2023-09-03</td>\n",
       "      <td>20</td>\n",
       "      <td>15.0</td>\n",
       "    </tr>\n",
       "    <tr>\n",
       "      <th>3</th>\n",
       "      <td>2023-09-04</td>\n",
       "      <td>25</td>\n",
       "      <td>17.5</td>\n",
       "    </tr>\n",
       "    <tr>\n",
       "      <th>4</th>\n",
       "      <td>2023-09-05</td>\n",
       "      <td>30</td>\n",
       "      <td>20.0</td>\n",
       "    </tr>\n",
       "    <tr>\n",
       "      <th>5</th>\n",
       "      <td>2023-09-06</td>\n",
       "      <td>35</td>\n",
       "      <td>22.5</td>\n",
       "    </tr>\n",
       "    <tr>\n",
       "      <th>6</th>\n",
       "      <td>2023-09-07</td>\n",
       "      <td>40</td>\n",
       "      <td>25.0</td>\n",
       "    </tr>\n",
       "  </tbody>\n",
       "</table>\n",
       "</div>"
      ],
      "text/plain": [
       "        Date  Sales  MovingAverage\n",
       "0 2023-09-01     10           10.0\n",
       "1 2023-09-02     15           12.5\n",
       "2 2023-09-03     20           15.0\n",
       "3 2023-09-04     25           17.5\n",
       "4 2023-09-05     30           20.0\n",
       "5 2023-09-06     35           22.5\n",
       "6 2023-09-07     40           25.0"
      ]
     },
     "execution_count": 64,
     "metadata": {},
     "output_type": "execute_result"
    }
   ],
   "source": [
    "import pandas as pd\n",
    "\n",
    "sales_data = {'Date': ['2023-09-01', '2023-09-02', '2023-09-03', '2023-09-04', '2023-09-05', '2023-09-06', '2023-09-07'],\n",
    "        'Sales': [10, 15, 20, 25, 30, 35, 40]}\n",
    "\n",
    "df7 = pd.DataFrame(sales_data)\n",
    "\n",
    "df7['Date'] = pd.to_datetime(df7['Date'])\n",
    "\n",
    "df7 = df7.sort_values(by='Date')\n",
    "\n",
    "df7['MovingAverage'] = df7['Sales'].rolling(window=11, min_periods=1).mean()\n",
    "\n",
    "#print(df7)\n",
    "df7"
   ]
  },
  {
   "cell_type": "markdown",
   "id": "54942865",
   "metadata": {},
   "source": [
    "# Q11. You have a Pandas DataFrame df with a column 'Date'. Write a Python function that creates a new column 'Weekday' in the DataFrame. The 'Weekday' column should contain the weekday name (e.g. Monday, Tuesday) corresponding to each date in the 'Date' column."
   ]
  },
  {
   "cell_type": "raw",
   "id": "a50208be",
   "metadata": {},
   "source": [
    "For example, if df contains the following values:\n",
    "Date\n",
    "0 2023-01-01\n",
    "1 2023-01-02\n",
    "2 2023-01-03\n",
    "3 2023-01-04\n",
    "4 2023-01-05\n",
    "Your function should create the following DataFrame:"
   ]
  },
  {
   "cell_type": "code",
   "execution_count": 63,
   "id": "4c24b252",
   "metadata": {},
   "outputs": [
    {
     "data": {
      "text/html": [
       "<div>\n",
       "<style scoped>\n",
       "    .dataframe tbody tr th:only-of-type {\n",
       "        vertical-align: middle;\n",
       "    }\n",
       "\n",
       "    .dataframe tbody tr th {\n",
       "        vertical-align: top;\n",
       "    }\n",
       "\n",
       "    .dataframe thead th {\n",
       "        text-align: right;\n",
       "    }\n",
       "</style>\n",
       "<table border=\"1\" class=\"dataframe\">\n",
       "  <thead>\n",
       "    <tr style=\"text-align: right;\">\n",
       "      <th></th>\n",
       "      <th>Date</th>\n",
       "      <th>Weekday</th>\n",
       "    </tr>\n",
       "  </thead>\n",
       "  <tbody>\n",
       "    <tr>\n",
       "      <th>0</th>\n",
       "      <td>2023-01-01</td>\n",
       "      <td>Sunday</td>\n",
       "    </tr>\n",
       "    <tr>\n",
       "      <th>1</th>\n",
       "      <td>2023-01-02</td>\n",
       "      <td>Monday</td>\n",
       "    </tr>\n",
       "    <tr>\n",
       "      <th>2</th>\n",
       "      <td>2023-01-03</td>\n",
       "      <td>Tuesday</td>\n",
       "    </tr>\n",
       "    <tr>\n",
       "      <th>3</th>\n",
       "      <td>2023-01-04</td>\n",
       "      <td>Wednesday</td>\n",
       "    </tr>\n",
       "    <tr>\n",
       "      <th>4</th>\n",
       "      <td>2023-01-05</td>\n",
       "      <td>Thursday</td>\n",
       "    </tr>\n",
       "  </tbody>\n",
       "</table>\n",
       "</div>"
      ],
      "text/plain": [
       "        Date    Weekday\n",
       "0 2023-01-01     Sunday\n",
       "1 2023-01-02     Monday\n",
       "2 2023-01-03    Tuesday\n",
       "3 2023-01-04  Wednesday\n",
       "4 2023-01-05   Thursday"
      ]
     },
     "execution_count": 63,
     "metadata": {},
     "output_type": "execute_result"
    }
   ],
   "source": [
    "import pandas as pd\n",
    "\n",
    "data_date = {'Date': ['2023-01-01', '2023-01-02', '2023-01-03', '2023-01-04', '2023-01-05']}\n",
    "df8 = pd.DataFrame(data_date)\n",
    "\n",
    "df8['Date'] = pd.to_datetime(df8['Date'])\n",
    "\n",
    "df8['Weekday'] = df8['Date'].dt.day_name()\n",
    "\n",
    "#print(df8)\n",
    "df8"
   ]
  },
  {
   "cell_type": "markdown",
   "id": "624dddee",
   "metadata": {},
   "source": [
    "# Q12. Given a Pandas DataFrame df with a column 'Date' that contains timestamps, write a Python function to select all rows where the date is between '2023-01-01' and '2023-01-31'."
   ]
  },
  {
   "cell_type": "code",
   "execution_count": 67,
   "id": "3b0963b1",
   "metadata": {},
   "outputs": [
    {
     "data": {
      "text/html": [
       "<div>\n",
       "<style scoped>\n",
       "    .dataframe tbody tr th:only-of-type {\n",
       "        vertical-align: middle;\n",
       "    }\n",
       "\n",
       "    .dataframe tbody tr th {\n",
       "        vertical-align: top;\n",
       "    }\n",
       "\n",
       "    .dataframe thead th {\n",
       "        text-align: right;\n",
       "    }\n",
       "</style>\n",
       "<table border=\"1\" class=\"dataframe\">\n",
       "  <thead>\n",
       "    <tr style=\"text-align: right;\">\n",
       "      <th></th>\n",
       "      <th>Date</th>\n",
       "    </tr>\n",
       "  </thead>\n",
       "  <tbody>\n",
       "    <tr>\n",
       "      <th>0</th>\n",
       "      <td>2023-01-01</td>\n",
       "    </tr>\n",
       "    <tr>\n",
       "      <th>1</th>\n",
       "      <td>2023-01-15</td>\n",
       "    </tr>\n",
       "    <tr>\n",
       "      <th>2</th>\n",
       "      <td>2023-01-20</td>\n",
       "    </tr>\n",
       "    <tr>\n",
       "      <th>3</th>\n",
       "      <td>2023-02-05</td>\n",
       "    </tr>\n",
       "  </tbody>\n",
       "</table>\n",
       "</div>"
      ],
      "text/plain": [
       "        Date\n",
       "0 2023-01-01\n",
       "1 2023-01-15\n",
       "2 2023-01-20\n",
       "3 2023-02-05"
      ]
     },
     "execution_count": 67,
     "metadata": {},
     "output_type": "execute_result"
    }
   ],
   "source": [
    "import pandas as pd\n",
    "\n",
    "Date_data = {'Date': ['2023-01-01', '2023-01-15', '2023-01-20', '2023-02-05']}\n",
    "df9 = pd.DataFrame(Date_data)\n",
    "\n",
    "df9['Date'] = pd.to_datetime(df9['Date'])\n",
    "\n",
    "selected_rows = df9[(df9['Date'] >= '2023-01-01') & (df9['Date'] <= '2023-01-31')]\n",
    "\n",
    "df9\n",
    "\n"
   ]
  },
  {
   "cell_type": "markdown",
   "id": "62dcaf7d",
   "metadata": {},
   "source": [
    "# Q13. To use the basic functions of pandas, what is the first and foremost necessary library that needs tobe imported?"
   ]
  },
  {
   "cell_type": "markdown",
   "id": "fde516e7",
   "metadata": {},
   "source": [
    "Answer :- \n",
    "\n",
    "The first and foremost library that needs to be imported to use the basic functions of Pandas is the Pandas library itself."
   ]
  },
  {
   "cell_type": "raw",
   "id": "1dd37e31",
   "metadata": {},
   "source": [
    "You can import Pandas using the following line:\n",
    "\n",
    "import pandas as pd"
   ]
  },
  {
   "cell_type": "code",
   "execution_count": null,
   "id": "291c8d15",
   "metadata": {},
   "outputs": [],
   "source": []
  }
 ],
 "metadata": {
  "kernelspec": {
   "display_name": "Python 3 (ipykernel)",
   "language": "python",
   "name": "python3"
  },
  "language_info": {
   "codemirror_mode": {
    "name": "ipython",
    "version": 3
   },
   "file_extension": ".py",
   "mimetype": "text/x-python",
   "name": "python",
   "nbconvert_exporter": "python",
   "pygments_lexer": "ipython3",
   "version": "3.9.13"
  }
 },
 "nbformat": 4,
 "nbformat_minor": 5
}
